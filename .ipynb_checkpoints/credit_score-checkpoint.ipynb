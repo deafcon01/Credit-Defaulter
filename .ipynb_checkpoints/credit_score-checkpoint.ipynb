{
 "cells": [
  {
   "cell_type": "code",
   "execution_count": 27,
   "metadata": {
    "collapsed": true
   },
   "outputs": [],
   "source": [
    "import pandas as pd\n",
    "import numpy as np\n",
    "import matplotlib.pyplot as plt\n",
    "from sklearn.preprocessing import MinMaxScaler\n",
    "from sklearn import svm, neighbors, metrics\n",
    "from sklearn.neural_network import MLPClassifier\n",
    "from sklearn.ensemble import RandomForestClassifier"
   ]
  },
  {
   "cell_type": "code",
   "execution_count": 15,
   "metadata": {
    "collapsed": true
   },
   "outputs": [],
   "source": [
    "default = pd.read_csv('dataset/UCI_Credit_Card.csv', sep=',')\n",
    "default.rename(columns=lambda x: x.lower(),inplace=True)"
   ]
  },
  {
   "cell_type": "code",
   "execution_count": 16,
   "metadata": {},
   "outputs": [
    {
     "name": "stdout",
     "output_type": "stream",
     "text": [
      "<class 'pandas.core.frame.DataFrame'>\n",
      "RangeIndex: 30000 entries, 0 to 29999\n",
      "Data columns (total 25 columns):\n",
      "id                            30000 non-null int64\n",
      "limit_bal                     30000 non-null float64\n",
      "sex                           30000 non-null int64\n",
      "education                     30000 non-null int64\n",
      "marriage                      30000 non-null int64\n",
      "age                           30000 non-null int64\n",
      "pay_0                         30000 non-null int64\n",
      "pay_2                         30000 non-null int64\n",
      "pay_3                         30000 non-null int64\n",
      "pay_4                         30000 non-null int64\n",
      "pay_5                         30000 non-null int64\n",
      "pay_6                         30000 non-null int64\n",
      "bill_amt1                     30000 non-null float64\n",
      "bill_amt2                     30000 non-null float64\n",
      "bill_amt3                     30000 non-null float64\n",
      "bill_amt4                     30000 non-null float64\n",
      "bill_amt5                     30000 non-null float64\n",
      "bill_amt6                     30000 non-null float64\n",
      "pay_amt1                      30000 non-null float64\n",
      "pay_amt2                      30000 non-null float64\n",
      "pay_amt3                      30000 non-null float64\n",
      "pay_amt4                      30000 non-null float64\n",
      "pay_amt5                      30000 non-null float64\n",
      "pay_amt6                      30000 non-null float64\n",
      "default.payment.next.month    30000 non-null int64\n",
      "dtypes: float64(13), int64(12)\n",
      "memory usage: 5.7 MB\n"
     ]
    }
   ],
   "source": [
    "default.info()"
   ]
  },
  {
   "cell_type": "markdown",
   "metadata": {},
   "source": [
    "Continuous Variable: LIMIT_BAL, AGE, BILL_AMT1-BILL_AMT6, PAY_AMT1-PAY_AMT6 \n",
    "Categorical Variable: SEX, EDUCATION, MARRIAGE,PAY_0-PAY_6 \n",
    "Target Variable: default.payment.next.month"
   ]
  },
  {
   "cell_type": "code",
   "execution_count": 17,
   "metadata": {
    "collapsed": true
   },
   "outputs": [],
   "source": [
    "default['grad_school']=(default['education']==1).astype('int')\n",
    "default['university']=(default['education']==2).astype('int')\n",
    "default['high_school']=(default['education']==3).astype('int')\n",
    "default.drop('education',axis=1,inplace=True)\n",
    "\n",
    "default['male']=(default['sex']==1).astype('int')\n",
    "default.drop('sex',axis=1,inplace=True)\n",
    "\n",
    "default['married']=(default['marriage']==1).astype('int')\n",
    "default.drop('marriage',axis=1,inplace=True)\n",
    "\n",
    "pay_features=['pay_0','pay_2','pay_3','pay_4','pay_5','pay_6',]\n",
    "for p in pay_features:\n",
    "    default.loc[default[p]<=0,p]=0\n",
    "\n",
    "default.rename(columns={'default.payment.next.month':'default'},inplace=True)\n"
   ]
  },
  {
   "cell_type": "code",
   "execution_count": 18,
   "metadata": {
    "collapsed": true
   },
   "outputs": [],
   "source": [
    "from sklearn.model_selection import train_test_split\n",
    "from sklearn.preprocessing import RobustScaler\n",
    "from sklearn.metrics import accuracy_score,precision_score,recall_score,confusion_matrix,precision_recall_curve"
   ]
  },
  {
   "cell_type": "code",
   "execution_count": 19,
   "metadata": {},
   "outputs": [],
   "source": [
    "target_name='default'\n",
    "X = default.drop('default',axis=1)\n",
    "robust_scaler=RobustScaler()\n",
    "X = robust_scaler.fit_transform(X)\n",
    "y = default[target_name]\n",
    "X_train,X_test,y_train,y_test = train_test_split(X,y,test_size=0.15,random_state=123,stratify=y)"
   ]
  },
  {
   "cell_type": "code",
   "execution_count": 20,
   "metadata": {},
   "outputs": [
    {
     "name": "stdout",
     "output_type": "stream",
     "text": [
      "accuracy:  81.9555555556\n"
     ]
    }
   ],
   "source": [
    "#Logistic Regression\n",
    "from sklearn.linear_model import LogisticRegression\n",
    "logistic = LogisticRegression()\n",
    "logistic.fit(X_train,y_train)\n",
    "y_pred = logistic.predict(X_test)\n",
    "acc=metrics.accuracy_score(y_test,y_pred)*100\n",
    "print(\"accuracy: \", acc)\n"
   ]
  },
  {
   "cell_type": "code",
   "execution_count": 21,
   "metadata": {},
   "outputs": [
    {
     "name": "stdout",
     "output_type": "stream",
     "text": [
      "accuracy:  79.0666666667\n"
     ]
    }
   ],
   "source": [
    "#KNN\n",
    "knn = neighbors.KNeighborsClassifier()\n",
    "knn.fit(X_train,y_train)\n",
    "y_pred = knn.predict(X_test)\n",
    "match = 0\n",
    "acc=metrics.accuracy_score(y_test,y_pred)*100\n",
    "print(\"accuracy: \", acc)\n"
   ]
  },
  {
   "cell_type": "code",
   "execution_count": 22,
   "metadata": {},
   "outputs": [
    {
     "name": "stdout",
     "output_type": "stream",
     "text": [
      "accuracy:  82.2888888889\n"
     ]
    }
   ],
   "source": [
    "#SVM\n",
    "model = svm.SVC(kernel='rbf', C=1000, gamma=0.0001) \n",
    "model.fit(X_train,y_train)\n",
    "y_pred=model.predict(X_test)\n",
    "acc=metrics.accuracy_score(y_test,y_pred)*100\n",
    "print(\"accuracy: \", acc)"
   ]
  },
  {
   "cell_type": "code",
   "execution_count": 25,
   "metadata": {},
   "outputs": [
    {
     "name": "stdout",
     "output_type": "stream",
     "text": [
      "accuracy:  81.8\n"
     ]
    }
   ],
   "source": [
    "#MLP\n",
    "model=MLPClassifier(solver='lbfgs',activation='logistic',alpha=1,hidden_layer_sizes=(10,10),learning_rate_init=1,random_state=0)\n",
    "model.fit(X_train,y_train)\n",
    "y_pred=model.predict(X_test)\n",
    "acc=metrics.accuracy_score(y_test,y_pred)*100\n",
    "print(\"accuracy: \", acc)"
   ]
  },
  {
   "cell_type": "code",
   "execution_count": 28,
   "metadata": {},
   "outputs": [
    {
     "data": {
      "text/plain": [
       "100.0"
      ]
     },
     "execution_count": 28,
     "metadata": {},
     "output_type": "execute_result"
    }
   ],
   "source": [
    "# Random Forest\n",
    "random_forest = RandomForestClassifier(n_estimators=100)\n",
    "random_forest.fit(X_train, y_train)\n",
    "Y_pred = random_forest.predict(X_test)\n",
    "random_forest.score(X_train, y_train)\n",
    "acc_random_forest = round(random_forest.score(X_train, y_train) * 100, 2)\n",
    "acc_random_forest"
   ]
  },
  {
   "cell_type": "code",
   "execution_count": null,
   "metadata": {
    "collapsed": true
   },
   "outputs": [],
   "source": []
  }
 ],
 "metadata": {
  "kernelspec": {
   "display_name": "Python 3",
   "language": "python",
   "name": "python3"
  },
  "language_info": {
   "codemirror_mode": {
    "name": "ipython",
    "version": 3
   },
   "file_extension": ".py",
   "mimetype": "text/x-python",
   "name": "python",
   "nbconvert_exporter": "python",
   "pygments_lexer": "ipython3",
   "version": "3.6.4"
  }
 },
 "nbformat": 4,
 "nbformat_minor": 2
}
